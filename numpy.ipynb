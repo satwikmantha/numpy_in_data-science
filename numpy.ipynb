{
  "nbformat": 4,
  "nbformat_minor": 0,
  "metadata": {
    "colab": {
      "provenance": []
    },
    "kernelspec": {
      "name": "python3",
      "display_name": "Python 3"
    },
    "language_info": {
      "name": "python"
    }
  },
  "cells": [
    {
      "cell_type": "markdown",
      "source": [
        "**STARTING WITH NUMPY**\n",
        "# NUMPY\n",
        "\n",
        " * Numpy is a general-purpose array-processing package. It provides a high-performance multidimensional array object, and tools for working with these arrays. It is the fundamental package for scientific computing with Python.\n",
        "\n",
        " * Besides its obvious scientific uses, Numpy can also be used as an efficient multi-dimensional container of generic data.\n",
        "\n",
        "**Arrays in Numpy**\n",
        " * Array in Numpy is a table of elements (usually numbers), all of the same type, indexed by a tuple of positive integers. In Numpy, number of dimensions of the array is called rank of the array.A tuple of integers giving the size of the array along each dimension is known as shape of the array. An array class in Numpy is called as ndarray. Elements in Numpy arrays are accessed by using square brackets and can be initialized by using nested Python Lists.\n",
        "\n",
        "**Creating a Numpy Array**\n",
        "\n",
        "* Arrays in Numpy can be created by multiple ways, with various number of Ranks, defining the size of the Array. Arrays can also be created with the use of various data types such as lists, tuples, etc. The type of the resultant array is deduced from the type of the elements in the sequences.\n",
        "Note: Type of array can be explicitly defined while creating the array.\n",
        "\n"
      ],
      "metadata": {
        "id": "V-IGpxIhq1ns"
      }
    },
    {
      "cell_type": "markdown",
      "source": [],
      "metadata": {
        "id": "coDt80_bq3wG"
      }
    },
    {
      "cell_type": "code",
      "source": [
        "import numpy as np\n",
        "\n",
        "# Creating arrays\n",
        "array_1d = np.array([1, 2, 3, 4, 5])\n",
        "array_2d = np.array([[1, 2, 3], [4, 5, 6]])\n",
        "\n",
        "# Basic operations\n",
        "sum_array = array_1d + 5\n",
        "product_array = array_2d * 2\n",
        "\n",
        "# Understanding array properties\n",
        "shape = array_2d.shape\n",
        "dtype = array_1d.dtype\n",
        "size = array_1d.size\n",
        "\n",
        "print(\"1D Array:\", array_1d)\n",
        "print(\"2D Array:\", array_2d)\n",
        "print(\"Sum Array:\", sum_array)\n",
        "print(\"Product Array:\", product_array)\n",
        "print(\"Shape of 2D Array:\", shape)\n",
        "print(\"Data type of 1D Array:\", dtype)\n",
        "print(\"Size of 1D Array:\", size)"
      ],
      "metadata": {
        "id": "tNeBgnx8h76O"
      },
      "execution_count": null,
      "outputs": []
    },
    {
      "cell_type": "code",
      "source": [
        "# Array creation\n",
        "arr = np.arange(10)\n",
        "\n",
        "# Indexing and slicing\n",
        "element = arr[3]  # Accessing 4th element\n",
        "slice_arr = arr[2:7]  # Slicing elements from index 2 to 6\n",
        "\n",
        "# Reshaping\n",
        "reshaped_arr = arr.reshape(2, 5)\n",
        "\n",
        "# Mathematical operations\n",
        "added_arr = arr + 10\n",
        "squared_arr = arr ** 2\n",
        "\n",
        "print(\"Original Array:\", arr)\n",
        "print(\"Element at index 3:\", element)\n",
        "print(\"Sliced Array:\", slice_arr)\n",
        "print(\"Reshaped Array:\\n\", reshaped_arr)\n",
        "print(\"Array after adding 10:\", added_arr)\n",
        "print(\"Squared Array:\", squared_arr)"
      ],
      "metadata": {
        "id": "aOWBGhQUiA3O"
      },
      "execution_count": null,
      "outputs": []
    },
    {
      "cell_type": "code",
      "source": [
        "# Sample data\n",
        "data = np.array([5, 10, 15, 20, 25, 30, 35, 40, 45, 50])\n",
        "\n",
        "# Summary statistics\n",
        "mean = np.mean(data)\n",
        "median = np.median(data)\n",
        "std_dev = np.std(data)\n",
        "total_sum = np.sum(data)\n",
        "\n",
        "# Grouping data (e.g., splitting into two groups)\n",
        "group1, group2 = np.split(data, 2)\n",
        "group1_mean = np.mean(group1)\n",
        "group2_mean = np.mean(group2)\n",
        "\n",
        "print(\"Mean:\", mean)\n",
        "print(\"Median:\", median)\n",
        "print(\"Standard Deviation:\", std_dev)\n",
        "print(\"Sum:\", total_sum)\n",
        "print(\"Mean of Group 1:\", group1_mean)\n",
        "print(\"Mean of Group 2:\", group2_mean)"
      ],
      "metadata": {
        "id": "-__mlsRFiOgl"
      },
      "execution_count": null,
      "outputs": []
    },
    {
      "cell_type": "code",
      "source": [
        "#Data Analysis\n",
        "# Simulating data for analysis\n",
        "data = np.random.randn(1000)  # 1000 data points from a standard normal distribution\n",
        "\n",
        "# Finding correlations (e.g., between two random datasets)\n",
        "data2 = np.random.randn(1000)\n",
        "correlation = np.corrcoef(data, data2)[0, 1]\n",
        "\n",
        "# Identifying outliers (values > 3 standard deviations from the mean)\n",
        "outliers = data[np.abs(data) > 3]\n",
        "\n",
        "# Calculating percentiles\n",
        "percentile_25 = np.percentile(data, 25)\n",
        "percentile_50 = np.percentile(data, 50)\n",
        "percentile_75 = np.percentile(data, 75)\n",
        "\n",
        "print(\"Correlation between data1 and data2:\", correlation)\n",
        "print(\"Outliers in data:\", outliers)\n",
        "print(\"25th Percentile:\", percentile_25)\n",
        "print(\"50th Percentile (Median):\", percentile_50)\n",
        "print(\"75th Percentile:\", percentile_75)"
      ],
      "metadata": {
        "id": "QO_HO0lriPJ3"
      },
      "execution_count": null,
      "outputs": []
    },
    {
      "cell_type": "code",
      "source": [],
      "metadata": {
        "id": "hqRPLFuciPZA"
      },
      "execution_count": null,
      "outputs": []
    },
    {
      "cell_type": "markdown",
      "source": [
        "Using pandas in your program can significantly enhance the efficiency and effectiveness of a data science professional's workflow. Here's how:\n",
        "\n",
        "### Benefits of Using Pandas:\n",
        "\n",
        "1. **Ease of Use**:\n",
        "   - **Intuitive Data Structures**: Pandas provides `Series` and `DataFrame` objects that are more intuitive and easier to use compared to traditional Python data structures like lists and dictionaries. These structures allow for more straightforward data manipulation and analysis.\n",
        "   - **Label-Based Indexing**: Unlike lists and dictionaries, pandas allows for label-based indexing, making it easier to access and manipulate data.\n",
        "\n",
        "2. **Data Cleaning and Preparation**:\n",
        "   - **Handling Missing Data**: Pandas has built-in methods to handle missing data, such as `fillna()`, `dropna()`, and `isnull()`, which simplify the data cleaning process.\n",
        "   - **Data Transformation**: Functions like `apply()`, `map()`, and `replace()` make it easy to transform data, which is crucial for preparing data for analysis.\n",
        "\n",
        "3. **Data Analysis**:\n",
        "   - **Aggregation and Grouping**: The `groupby()` function allows for powerful data aggregation and summarization, enabling complex analysis with minimal code.\n",
        "   - **Statistical Functions**: Pandas includes a wide range of statistical functions, such as `mean()`, `median()`, `std()`, and `describe()`, which provide quick insights into the data.\n",
        "\n",
        "4. **Time Series Analysis**:\n",
        "   - **Date and Time Handling**: Pandas excels in handling time series data with functions for date range generation, frequency conversion, and moving window statistics.\n",
        "   - **Resampling and Shifting**: Functions like `resample()` and `shift()` make it easy to manipulate time series data for analysis.\n",
        "\n",
        "5. **Input/Output Operations**:\n",
        "   - **File Handling**: Pandas can read from and write to various file formats, including CSV, Excel, SQL databases, and HDF5, making it versatile for different data sources.\n",
        "   - **Performance**: Pandas is optimized for performance, allowing for efficient handling of large datasets.\n",
        "\n",
        "### Advantages Over Traditional Python Data Structures:\n",
        "\n",
        "- **Efficiency**: Pandas is built on top of NumPy, which provides efficient array operations. This makes pandas faster and more memory-efficient for large datasets compared to lists and dictionaries.\n",
        "- **Functionality**: Pandas offers a rich set of functions for data manipulation and analysis that are not available in traditional Python data structures.\n",
        "- **Readability**: Code written with pandas is often more readable and concise, making it easier to understand and maintain.\n",
        "- **Community and Support**: Pandas has a large and active community, providing extensive documentation, tutorials, and third-party libraries that extend its functionality.\n",
        "\n",
        "In summary, pandas streamlines the data handling and analysis process, making it an indispensable tool for data science professionals. Its powerful features and ease of use significantly enhance productivity and enable more sophisticated data analysis.\n",
        "\n",
        "Would you like to see a specific example of how pandas can be used in a data science project?"
      ],
      "metadata": {
        "id": "p7VeIya-jGoD"
      }
    },
    {
      "cell_type": "code",
      "source": [],
      "metadata": {
        "id": "0AvA6ajWjNxH"
      },
      "execution_count": null,
      "outputs": []
    },
    {
      "cell_type": "markdown",
      "source": [
        "NumPy is an essential library in Python for numerical computing, and its capabilities are crucial in various real-world applications. Here are some examples:\n",
        "\n",
        "### 1. **Data Science and Machine Learning**:\n",
        "- **Data Preprocessing**: NumPy is used to handle large datasets efficiently. It provides tools for cleaning, transforming, and normalizing data, which are essential steps before feeding data into machine learning models.\n",
        "- **Model Training**: Many machine learning algorithms, such as linear regression, logistic regression, and neural networks, rely on matrix operations. NumPy's efficient handling of arrays and matrices speeds up these computations significantly.\n",
        "\n",
        "### 2. **Scientific Research**:\n",
        "- **Simulations**: Researchers use NumPy to perform simulations in fields like physics, chemistry, and biology. For example, in computational physics, NumPy can be used to simulate particle interactions or solve differential equations.\n",
        "- **Statistical Analysis**: NumPy provides a wide range of statistical functions that are used in research to analyze experimental data, calculate probabilities, and perform hypothesis testing.\n",
        "\n",
        "### 3. **Financial Analysis**:\n",
        "- **Portfolio Optimization**: Financial analysts use NumPy to optimize investment portfolios by calculating returns, risks, and correlations between different assets.\n",
        "- **Risk Management**: NumPy is used to model financial risks and perform Monte Carlo simulations to predict future market scenarios.\n",
        "\n",
        "### 4. **Engineering**:\n",
        "- **Signal Processing**: Engineers use NumPy for signal processing tasks such as filtering, Fourier transforms, and convolution operations.\n",
        "- **Control Systems**: In control engineering, NumPy is used to design and analyze control systems, including the computation of transfer functions and state-space models.\n",
        "\n",
        "### 5. **Image Processing**:\n",
        "- **Image Manipulation**: NumPy is used to manipulate images by performing operations like resizing, cropping, and filtering. It is often used in conjunction with libraries like OpenCV and PIL.\n",
        "- **Feature Extraction**: In computer vision, NumPy is used to extract features from images, such as edges, corners, and textures, which are then used for object detection and recognition.\n",
        "\n",
        "### 6. **Astronomy**:\n",
        "- **Data Analysis**: Astronomers use NumPy to analyze data from telescopes, such as light curves and spectra. It helps in processing large datasets and performing statistical analysis.\n",
        "- **Simulation of Celestial Mechanics**: NumPy is used to simulate the motion of celestial bodies and study the dynamics of planetary systems.\n",
        "\n",
        "### Advantages Over Traditional Python Data Structures:\n",
        "- **Performance**: NumPy is built on C, which makes it much faster for numerical computations compared to Python's built-in lists and loops.\n",
        "- **Memory Efficiency**: NumPy arrays consume less memory and provide better performance for large datasets.\n",
        "- **Vectorization**: NumPy allows for vectorized operations, which means operations can be applied to entire arrays without the need for explicit loops, leading to cleaner and more efficient code.\n",
        "- **Integration**: NumPy integrates seamlessly with other scientific libraries like SciPy, Matplotlib, and pandas, enhancing its capabilities for scientific computing and data visualization.\n"
      ],
      "metadata": {
        "id": "6y0Lwte7jsJm"
      }
    },
    {
      "cell_type": "code",
      "source": [],
      "metadata": {
        "id": "GUvSPV6Ij14q"
      },
      "execution_count": null,
      "outputs": []
    }
  ]
}